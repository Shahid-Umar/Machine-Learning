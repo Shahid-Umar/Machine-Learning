{
 "cells": [
  {
   "cell_type": "markdown",
   "metadata": {},
   "source": [
    "# Hyperparameter Tuning\n",
    "Hyperparameter tuning is the process of finding the best combination of hyperparameter for a given model. In this notebook, we will use the [Azure Machine Learning Service](https://azure.microsoft.com/en-us/services/machine-learning/) to perform hyperparameter tuning for a [scikit-learn](https://scikit-learn.org/stable/) model.\n",
    "\n",
    "**Types**\n",
    "- Grid Search: The model is trained for a set of hyperparameter values and the best combination is selected based on the score.\n",
    "- Random Search: The model is trained for a set of hyperparameter values and the best combination is selected randomly.\n",
    "- Bayesian Optimization: The model is trained for a set of hyperparameter values and the best combination is selected based on the score.\n",
    "- Gradient-Based Optimization: The model is trained for a set of hyperparameter values and the best combination is selected based on the score."
   ]
  },
  {
   "cell_type": "markdown",
   "metadata": {},
   "source": [
    "# Cross Validation\n",
    "Cross Validation is a technique used to evaluate the performance of a model on unseen data. It is used to check how well the model generalize to new data."
   ]
  },
  {
   "cell_type": "code",
   "execution_count": 8,
   "metadata": {},
   "outputs": [],
   "source": [
    "# Import libraries\n",
    "from sklearn.ensemble import RandomForestClassifier\n",
    "from sklearn.model_selection import GridSearchCV\n",
    "from sklearn.metrics import accuracy_score, confusion_matrix, classification_report\n",
    "\n",
    "# To remove warnings\n",
    "import warnings\n",
    "warnings.filterwarnings('ignore')\n"
   ]
  },
  {
   "cell_type": "code",
   "execution_count": 9,
   "metadata": {},
   "outputs": [],
   "source": [
    "# load the data\n",
    "from sklearn.datasets import load_iris\n",
    "iris = load_iris()\n",
    "\n",
    "X = iris.data # features\n",
    "y = iris.target # target lables"
   ]
  },
  {
   "cell_type": "code",
   "execution_count": 18,
   "metadata": {},
   "outputs": [
    {
     "name": "stdout",
     "output_type": "stream",
     "text": [
      "Fitting 5 folds for each of 54 candidates, totalling 270 fits\n"
     ]
    },
    {
     "name": "stdout",
     "output_type": "stream",
     "text": [
      "Best Parameters: {'max_depth': 4, 'max_features': 'sqrt', 'n_estimators': 100}\n"
     ]
    }
   ],
   "source": [
    "# Define the model\n",
    "model = RandomForestClassifier()\n",
    "\n",
    "# Create the parameter grid\n",
    "param_grid = {\n",
    "    'n_estimators': [50, 100, 200, 300, 400, 500],\n",
    "    'max_features': ['auto', 'sqrt', 'log2'],\n",
    "    'max_depth': [4, 5, 6], # default = None\n",
    "    # 'min_samples_split': [2, 5, 10], # default = 2\n",
    "    # 'min_samples_leaf': [1, 2, 4], # default = 1\n",
    "    # 'criterion': ['gini', 'entropy']\n",
    "}\n",
    "\n",
    "# Create the GridSearchCV or create a grid\n",
    "grid = GridSearchCV(\n",
    "    estimator=model, \n",
    "    param_grid=param_grid, \n",
    "    cv=5, \n",
    "    scoring='accuracy', \n",
    "    verbose=1, \n",
    "    n_jobs=-1)\n",
    "\n",
    "# Fit the model\n",
    "grid.fit(X, y)\n",
    "\n",
    "# print best parameters\n",
    "print(f\"Best Parameters: {grid.best_params_}\")\n"
   ]
  },
  {
   "cell_type": "code",
   "execution_count": 11,
   "metadata": {},
   "outputs": [
    {
     "name": "stdout",
     "output_type": "stream",
     "text": [
      "Fitting 5 folds for each of 20 candidates, totalling 100 fits\n",
      "Best Parameters: {'n_estimators': 400, 'min_samples_split': 5, 'min_samples_leaf': 1, 'max_features': 'sqrt', 'max_depth': None, 'criterion': 'gini'}\n"
     ]
    }
   ],
   "source": [
    "from sklearn.model_selection import RandomizedSearchCV\n",
    "# Define the model\n",
    "model = RandomForestClassifier()\n",
    "\n",
    "# Create the parameter grid\n",
    "param_grid = {\n",
    "    'n_estimators': [50, 100, 200, 300, 400, 500],\n",
    "    'max_features': ['auto', 'sqrt', 'log2'],\n",
    "    'max_depth': [None, 4, 5, 6, 7, 8, 9, 10],\n",
    "    'min_samples_split': [2, 5, 10], # default = 2\n",
    "    'min_samples_leaf': [1, 2, 4], # default = 1\n",
    "    'criterion': ['gini', 'entropy']\n",
    "}\n",
    "\n",
    "# Create the RandomizedSearchCV or create a grid\n",
    "grid = RandomizedSearchCV(\n",
    "    estimator=model, \n",
    "    param_distributions=param_grid, \n",
    "    cv=5, \n",
    "    scoring='accuracy', \n",
    "    verbose=1, \n",
    "    n_jobs=-1, \n",
    "    n_iter=20\n",
    ")\n",
    "\n",
    "# Fit the model\n",
    "grid.fit(X, y)\n",
    "\n",
    "# print best parameters\n",
    "print(f\"Best Parameters: {grid.best_params_}\")"
   ]
  }
 ],
 "metadata": {
  "kernelspec": {
   "display_name": "Python 3",
   "language": "python",
   "name": "python3"
  },
  "language_info": {
   "codemirror_mode": {
    "name": "ipython",
    "version": 3
   },
   "file_extension": ".py",
   "mimetype": "text/x-python",
   "name": "python",
   "nbconvert_exporter": "python",
   "pygments_lexer": "ipython3",
   "version": "3.11.5"
  }
 },
 "nbformat": 4,
 "nbformat_minor": 2
}
